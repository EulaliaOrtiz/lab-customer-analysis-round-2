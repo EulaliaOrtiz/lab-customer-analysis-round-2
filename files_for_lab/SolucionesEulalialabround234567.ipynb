{
 "cells": [
  {
   "cell_type": "code",
   "execution_count": null,
   "id": "caec0fe1",
   "metadata": {},
   "outputs": [],
   "source": [
    "import pandas as pd\n",
    "import numpy as np\n",
    "from sklearn.linear_model import LinearRegression\n",
    "from sklearn.metrics import mean_squared_error, r2_score\n",
    "lm = LinearRegression()\n",
    "import matplotlib.pyplot as plt\n",
    "import seaborn as sns \n",
    "from sklearn.model_selection import train_test_split\n",
    "from sklearn.preprocessing import PowerTransformer\n",
    "from sklearn.preprocessing import OneHotEncoder, LabelEncoder, OrdinalEncoder\n",
    "from sklearn.preprocessing import MinMaxScaler, StandardScaler\n",
    "from sklearn.neighbors import KNeighborsRegressor\n",
    "from sklearn.neural_network import MLPRegressor\n",
    "from sklearn import linear_model "
   ]
  },
  {
   "cell_type": "code",
   "execution_count": null,
   "id": "a7ef2708",
   "metadata": {},
   "outputs": [],
   "source": [
    "%matplotlib inline"
   ]
  },
  {
   "cell_type": "markdown",
   "id": "d017ec7d",
   "metadata": {},
   "source": [
    "## Lab | Customer Analysis Round 2"
   ]
  },
  {
   "cell_type": "markdown",
   "id": "3c1065c3",
   "metadata": {},
   "source": [
    "### Dealing with the data"
   ]
  },
  {
   "cell_type": "code",
   "execution_count": null,
   "id": "f23841cf",
   "metadata": {},
   "outputs": [],
   "source": [
    "#Show the dataframe shape."
   ]
  },
  {
   "cell_type": "code",
   "execution_count": null,
   "id": "be3b4cc5",
   "metadata": {},
   "outputs": [],
   "source": [
    "file = pd.read_csv('marketing_customer_analysis.csv')"
   ]
  },
  {
   "cell_type": "code",
   "execution_count": null,
   "id": "cd00af51",
   "metadata": {},
   "outputs": [],
   "source": [
    "file.shape"
   ]
  },
  {
   "cell_type": "code",
   "execution_count": null,
   "id": "a84e9a50",
   "metadata": {},
   "outputs": [],
   "source": [
    "file.info()"
   ]
  },
  {
   "cell_type": "code",
   "execution_count": null,
   "id": "25a02d7e",
   "metadata": {},
   "outputs": [],
   "source": [
    "file.describe()"
   ]
  },
  {
   "cell_type": "code",
   "execution_count": null,
   "id": "9d700701",
   "metadata": {},
   "outputs": [],
   "source": [
    "#2. Standardize header names."
   ]
  },
  {
   "cell_type": "code",
   "execution_count": null,
   "id": "b12b4d84",
   "metadata": {},
   "outputs": [],
   "source": [
    "file.columns"
   ]
  },
  {
   "cell_type": "code",
   "execution_count": null,
   "id": "560640cc",
   "metadata": {},
   "outputs": [],
   "source": [
    "cols = []\n",
    "for col in file.columns: \n",
    "    column = col.lower()\n",
    "    column = column.replace(\" \", \"_\")\n",
    "    cols.append(column)\n",
    "cols"
   ]
  },
  {
   "cell_type": "code",
   "execution_count": null,
   "id": "166e0a0f",
   "metadata": {},
   "outputs": [],
   "source": [
    "file.columns = cols\n",
    "file.head()"
   ]
  },
  {
   "cell_type": "code",
   "execution_count": null,
   "id": "bddbf629",
   "metadata": {},
   "outputs": [],
   "source": [
    "#3. Which columns are numerical?\n",
    "#4. Which columns are categorical?"
   ]
  },
  {
   "cell_type": "code",
   "execution_count": null,
   "id": "43075da5",
   "metadata": {},
   "outputs": [],
   "source": [
    "file.dtypes"
   ]
  },
  {
   "cell_type": "code",
   "execution_count": null,
   "id": "72f850dd",
   "metadata": {},
   "outputs": [],
   "source": [
    "numerics = ['int16', 'int32', 'int64', 'float16', 'float32', 'float64']\n",
    "file.select_dtypes(include=numerics).columns\n"
   ]
  },
  {
   "cell_type": "code",
   "execution_count": null,
   "id": "c7800429",
   "metadata": {},
   "outputs": [],
   "source": [
    "file.select_dtypes(include='object').columns"
   ]
  },
  {
   "cell_type": "code",
   "execution_count": null,
   "id": "7978e2c6",
   "metadata": {},
   "outputs": [],
   "source": [
    "file['state'].unique()"
   ]
  },
  {
   "cell_type": "code",
   "execution_count": null,
   "id": "ed9dfe4c",
   "metadata": {},
   "outputs": [],
   "source": [
    "file['response'].unique()"
   ]
  },
  {
   "cell_type": "code",
   "execution_count": null,
   "id": "564a8fc6",
   "metadata": {},
   "outputs": [],
   "source": [
    "file['coverage'].unique()"
   ]
  },
  {
   "cell_type": "code",
   "execution_count": null,
   "id": "51058720",
   "metadata": {},
   "outputs": [],
   "source": [
    "file['education'].unique()"
   ]
  },
  {
   "cell_type": "code",
   "execution_count": null,
   "id": "77e2b293",
   "metadata": {},
   "outputs": [],
   "source": [
    "file['effective_to_date'].unique()"
   ]
  },
  {
   "cell_type": "code",
   "execution_count": null,
   "id": "60d4f4a8",
   "metadata": {},
   "outputs": [],
   "source": [
    "file['employmentstatus'].unique()"
   ]
  },
  {
   "cell_type": "code",
   "execution_count": null,
   "id": "b86c3367",
   "metadata": {},
   "outputs": [],
   "source": [
    "file['gender'].unique()"
   ]
  },
  {
   "cell_type": "code",
   "execution_count": null,
   "id": "25354665",
   "metadata": {},
   "outputs": [],
   "source": [
    "file['location_code'].unique()"
   ]
  },
  {
   "cell_type": "code",
   "execution_count": null,
   "id": "90947492",
   "metadata": {},
   "outputs": [],
   "source": [
    "file['marital_status'].unique()"
   ]
  },
  {
   "cell_type": "code",
   "execution_count": null,
   "id": "7cb348e0",
   "metadata": {},
   "outputs": [],
   "source": [
    "file['policy_type'].unique()"
   ]
  },
  {
   "cell_type": "code",
   "execution_count": null,
   "id": "5e8ae333",
   "metadata": {},
   "outputs": [],
   "source": [
    "file['policy'].unique()"
   ]
  },
  {
   "cell_type": "code",
   "execution_count": null,
   "id": "b97dbb57",
   "metadata": {},
   "outputs": [],
   "source": [
    "file['renew_offer_type'].unique()"
   ]
  },
  {
   "cell_type": "code",
   "execution_count": null,
   "id": "7405fcf5",
   "metadata": {},
   "outputs": [],
   "source": [
    "file['sales_channel'].unique()"
   ]
  },
  {
   "cell_type": "code",
   "execution_count": null,
   "id": "cd8fac22",
   "metadata": {},
   "outputs": [],
   "source": [
    "file['vehicle_class'].unique()"
   ]
  },
  {
   "cell_type": "code",
   "execution_count": null,
   "id": "e5066644",
   "metadata": {},
   "outputs": [],
   "source": [
    "file['vehicle_size'].unique()"
   ]
  },
  {
   "cell_type": "code",
   "execution_count": null,
   "id": "a26dfb07",
   "metadata": {},
   "outputs": [],
   "source": [
    "file['vehicle_type'].unique()"
   ]
  },
  {
   "cell_type": "markdown",
   "id": "6b573dc8",
   "metadata": {},
   "source": [
    "###  Check and deal with `NaN` values"
   ]
  },
  {
   "cell_type": "code",
   "execution_count": null,
   "id": "822b1bba",
   "metadata": {},
   "outputs": [],
   "source": [
    "file.isna().sum()"
   ]
  },
  {
   "cell_type": "code",
   "execution_count": null,
   "id": "c44d48ea",
   "metadata": {},
   "outputs": [],
   "source": [
    "#Dropping columns with missing values -categorical-. Vehicle type has too many missing values. Unnamed is useless. \n",
    "filedr = file.drop(columns=['vehicle_type', 'unnamed:_0'])\n",
    "filedr.head(1)"
   ]
  },
  {
   "cell_type": "code",
   "execution_count": null,
   "id": "300adb64",
   "metadata": {},
   "outputs": [],
   "source": [
    "filedr.dropna(axis=0,inplace=False)"
   ]
  },
  {
   "cell_type": "code",
   "execution_count": null,
   "id": "4e1a0365",
   "metadata": {},
   "outputs": [],
   "source": [
    "filedr.isna().sum()"
   ]
  },
  {
   "cell_type": "code",
   "execution_count": null,
   "id": "fa9f7869",
   "metadata": {},
   "outputs": [],
   "source": [
    "#We drop the column response."
   ]
  },
  {
   "cell_type": "code",
   "execution_count": null,
   "id": "3069906c",
   "metadata": {},
   "outputs": [],
   "source": [
    "filedr['response'].value_counts(dropna=False)"
   ]
  },
  {
   "cell_type": "code",
   "execution_count": null,
   "id": "71c24292",
   "metadata": {
    "scrolled": true
   },
   "outputs": [],
   "source": [
    "filedr = file.drop(columns=['response'])\n",
    "filedr.head()"
   ]
  },
  {
   "cell_type": "markdown",
   "id": "ac4f8e34",
   "metadata": {},
   "source": [
    "### Dealing with the date column"
   ]
  },
  {
   "cell_type": "code",
   "execution_count": null,
   "id": "231d9618",
   "metadata": {},
   "outputs": [],
   "source": [
    "def get_month(text):\n",
    "    return text.split('/')[0]"
   ]
  },
  {
   "cell_type": "code",
   "execution_count": null,
   "id": "a552105c",
   "metadata": {},
   "outputs": [],
   "source": [
    "filedr['month'] = filedr.effective_to_date.apply(get_month)\n",
    "filedr.head()"
   ]
  },
  {
   "cell_type": "code",
   "execution_count": null,
   "id": "305f492a",
   "metadata": {
    "scrolled": true
   },
   "outputs": [],
   "source": [
    "#6. Datetime format - \n",
    "#Extract the months from the dataset and store in a separate column. \n",
    "#Then filter the data to show only the information for the first quarter , ie. January, February and March. _\n",
    "# #Hint_: If data from March does not exist, consider only January and February.\n",
    "# selecting rows based on condition \n",
    "quarter = ['1', '2', '3'] \n",
    "quarter_1 = filedr[filedr['month'].isin(quarter)] "
   ]
  },
  {
   "cell_type": "code",
   "execution_count": null,
   "id": "df812a19",
   "metadata": {},
   "outputs": [],
   "source": [
    "quarter_1.head()"
   ]
  },
  {
   "cell_type": "code",
   "execution_count": null,
   "id": "9f0b4217",
   "metadata": {},
   "outputs": [],
   "source": [
    "#7. BONUS: Put all the previously mentioned data transformations into a function"
   ]
  },
  {
   "cell_type": "markdown",
   "id": "28e03756",
   "metadata": {},
   "source": [
    "## Lab | Customer Analysis Round 3"
   ]
  },
  {
   "cell_type": "code",
   "execution_count": null,
   "id": "750ad65e",
   "metadata": {},
   "outputs": [],
   "source": [
    "#For this lab, we still keep using the marketing_customer_analysis.csv file. \n",
    "#You can find the file in the files_for_lab folder."
   ]
  },
  {
   "cell_type": "code",
   "execution_count": null,
   "id": "f2c8f344",
   "metadata": {},
   "outputs": [],
   "source": [
    "filel3 = pd.read_csv('marketing_customer_analysislab3.csv')"
   ]
  },
  {
   "cell_type": "markdown",
   "id": "900960e4",
   "metadata": {},
   "source": [
    "### EDA (Exploratory Data Analysis) \n"
   ]
  },
  {
   "cell_type": "code",
   "execution_count": null,
   "id": "d180683e",
   "metadata": {},
   "outputs": [],
   "source": [
    "filel3.info()"
   ]
  },
  {
   "cell_type": "code",
   "execution_count": null,
   "id": "899af5cf",
   "metadata": {},
   "outputs": [],
   "source": [
    "filel3.describe().T"
   ]
  },
  {
   "cell_type": "code",
   "execution_count": null,
   "id": "ee8b3b54",
   "metadata": {},
   "outputs": [],
   "source": [
    "filel3.describe(include=[np.object]).T "
   ]
  },
  {
   "cell_type": "markdown",
   "id": "eb98662a",
   "metadata": {},
   "source": [
    "### Plotting"
   ]
  },
  {
   "cell_type": "code",
   "execution_count": null,
   "id": "8eb682c6",
   "metadata": {},
   "outputs": [],
   "source": [
    "#Show a plot of the total number of responses."
   ]
  },
  {
   "cell_type": "code",
   "execution_count": null,
   "id": "3e58b156",
   "metadata": {},
   "outputs": [],
   "source": [
    "sns.displot(filel3['Response'])\n",
    "plt.show()"
   ]
  },
  {
   "cell_type": "code",
   "execution_count": null,
   "id": "c750d307",
   "metadata": {},
   "outputs": [],
   "source": [
    "#Show a plot of the response rate by the sales channel."
   ]
  },
  {
   "cell_type": "code",
   "execution_count": null,
   "id": "6db73a8f",
   "metadata": {},
   "outputs": [],
   "source": [
    "sns.displot(data=filel3, x=\"Sales Channel\", hue=\"Response\", multiple=\"stack\")\n",
    "plt.show()"
   ]
  },
  {
   "cell_type": "code",
   "execution_count": null,
   "id": "43924f55",
   "metadata": {},
   "outputs": [],
   "source": [
    "#Show a plot of the response rate by the total claim amount."
   ]
  },
  {
   "cell_type": "code",
   "execution_count": null,
   "id": "5cfa11a2",
   "metadata": {},
   "outputs": [],
   "source": [
    "sns.displot(data=filel3, x=\"Total Claim Amount\", hue=\"Response\")\n",
    "sns.set(rc={\"figure.figsize\":(2, 2)}) \n",
    "plt.show()"
   ]
  },
  {
   "cell_type": "code",
   "execution_count": null,
   "id": "41824b85",
   "metadata": {},
   "outputs": [],
   "source": [
    "#Show a plot of the response rate by income."
   ]
  },
  {
   "cell_type": "code",
   "execution_count": null,
   "id": "ebf1d852",
   "metadata": {},
   "outputs": [],
   "source": [
    "sns.displot(data=filel3, x=\"Income\", hue=\"Response\", multiple=\"stack\")\n",
    "sns.set(rc={\"figure.figsize\":(8, 4)}) \n",
    "plt.show()"
   ]
  },
  {
   "cell_type": "markdown",
   "id": "b3d8e726",
   "metadata": {},
   "source": [
    "## Lab | Customer Analysis Round 4"
   ]
  },
  {
   "cell_type": "code",
   "execution_count": null,
   "id": "767c9233",
   "metadata": {},
   "outputs": [],
   "source": [
    "#In today's lesson we talked about continuous distributions (mainly normal distribution), \n",
    "#linear regression and how multicollinearity can impact the model.\n",
    "#In this lab, we will test your knowledge on those things using the marketing_customer_analysis.csv file. \n",
    "#You have been using the same data in the previous labs (round 2 and 3). You can continue using the same jupyter file. \n",
    "#The file can be found in the files_for_lab folder.\n",
    "#Please note that we will use the column total_claim_amount later as the target variable."
   ]
  },
  {
   "cell_type": "code",
   "execution_count": null,
   "id": "73988096",
   "metadata": {},
   "outputs": [],
   "source": [
    "#Check the data types of the columns. \n",
    "#Get the numeric data into dataframe called numerical and categorical columns in a dataframe called categoricals. \n",
    "#(You can use np.number and np.object to select the numerical data types and categorical data types respectively)"
   ]
  },
  {
   "cell_type": "code",
   "execution_count": null,
   "id": "df78e095",
   "metadata": {},
   "outputs": [],
   "source": [
    "categorical = filel3.select_dtypes(exclude=[np.number])\n",
    "categorical.head(1)"
   ]
  },
  {
   "cell_type": "code",
   "execution_count": null,
   "id": "e7cb9ed3",
   "metadata": {},
   "outputs": [],
   "source": [
    "numerical = filel3.select_dtypes(include=[np.number])\n",
    "numerical.head(1)"
   ]
  },
  {
   "cell_type": "markdown",
   "id": "73e6e5ce",
   "metadata": {},
   "source": [
    "### Plotting numerical variables"
   ]
  },
  {
   "cell_type": "code",
   "execution_count": null,
   "id": "d8cb3da9",
   "metadata": {},
   "outputs": [],
   "source": [
    "#Now we will try to check the normality of the numerical variables visually\n",
    "#Use seaborn library to construct distribution plots for the numerical variables\n",
    "#Use Matplotlib to construct histograms"
   ]
  },
  {
   "cell_type": "code",
   "execution_count": null,
   "id": "ae4a84b9",
   "metadata": {},
   "outputs": [],
   "source": [
    "sns.distplot(numerical['Total Claim Amount'], bins=40);"
   ]
  },
  {
   "cell_type": "code",
   "execution_count": null,
   "id": "5ffe0a3b",
   "metadata": {},
   "outputs": [],
   "source": [
    "sns.distplot(numerical['Number of Policies'], bins=40);"
   ]
  },
  {
   "cell_type": "code",
   "execution_count": null,
   "id": "8eb81da8",
   "metadata": {},
   "outputs": [],
   "source": [
    "sns.distplot(numerical['Number of Open Complaints'], bins=40);"
   ]
  },
  {
   "cell_type": "code",
   "execution_count": null,
   "id": "614096dc",
   "metadata": {},
   "outputs": [],
   "source": [
    "sns.distplot(numerical['Months Since Policy Inception'], bins=30);"
   ]
  },
  {
   "cell_type": "code",
   "execution_count": null,
   "id": "8c21d1ba",
   "metadata": {},
   "outputs": [],
   "source": [
    "sns.distplot(numerical['Months Since Last Claim'], bins=30);"
   ]
  },
  {
   "cell_type": "code",
   "execution_count": null,
   "id": "7c2d9515",
   "metadata": {},
   "outputs": [],
   "source": [
    "sns.distplot(numerical['Monthly Premium Auto'], bins=30)"
   ]
  },
  {
   "cell_type": "code",
   "execution_count": null,
   "id": "d697e67b",
   "metadata": {},
   "outputs": [],
   "source": [
    "sns.distplot(numerical['Income'], bins=6);"
   ]
  },
  {
   "cell_type": "code",
   "execution_count": null,
   "id": "7d8b7555",
   "metadata": {},
   "outputs": [],
   "source": [
    "sns.distplot(numerical['Customer Lifetime Value'], bins=30);"
   ]
  },
  {
   "cell_type": "markdown",
   "id": "1447688e",
   "metadata": {},
   "source": [
    "### Checking for correlations"
   ]
  },
  {
   "cell_type": "code",
   "execution_count": null,
   "id": "dea56b59",
   "metadata": {},
   "outputs": [],
   "source": [
    "#Write code for both the correlation matrix and for seaborn heatmap. \n",
    "#If there is no pair of features that have a high correlation, then do not drop any features\n",
    "#For the numerical variables, check the multicollinearity between the features.\n",
    "#Please note that we will use the column total_claim_amount later as the target variable.\n",
    "#Drop one of the two features that show a high correlation between them (greater than 0.9). \n",
    "#Write code for both the correlation matrix and for seaborn heatmap. \n",
    "#If there is no pair of features that have a high correlation, then do not drop any features"
   ]
  },
  {
   "cell_type": "code",
   "execution_count": null,
   "id": "c281b520",
   "metadata": {},
   "outputs": [],
   "source": [
    "sns.pairplot(numerical)\n",
    "plt.show()"
   ]
  },
  {
   "cell_type": "code",
   "execution_count": null,
   "id": "54854080",
   "metadata": {},
   "outputs": [],
   "source": [
    "numcorr = numerical.corr()\n",
    "numcorr"
   ]
  },
  {
   "cell_type": "code",
   "execution_count": null,
   "id": "7e3948cf",
   "metadata": {
    "scrolled": true
   },
   "outputs": [],
   "source": [
    "fig, ax = plt.subplots(figsize=(10, 8))\n",
    "ax = sns.heatmap(numcorr, annot=True)\n",
    "plt.show()"
   ]
  },
  {
   "cell_type": "markdown",
   "id": "81c013bc",
   "metadata": {},
   "source": [
    "There are no features that show a correlation between them higher than 0.9 and so we will not drop any feature. The two parameters that seem to have the highest explanationatory capacity for total claim amount are income, monthly premium auto and customer lifetime value.\n"
   ]
  },
  {
   "cell_type": "markdown",
   "id": "c571360c",
   "metadata": {},
   "source": [
    "##  lab| Customer analysis round 5"
   ]
  },
  {
   "cell_type": "code",
   "execution_count": null,
   "id": "c95a5a01",
   "metadata": {},
   "outputs": [],
   "source": [
    "df = pd.concat([numerical, categorical], axis = 1)\n"
   ]
  },
  {
   "cell_type": "code",
   "execution_count": null,
   "id": "f1dbd0e3",
   "metadata": {
    "scrolled": true
   },
   "outputs": [],
   "source": [
    "df.drop(['Policy', 'Customer'], axis=1, inplace=True)"
   ]
  },
  {
   "cell_type": "code",
   "execution_count": null,
   "id": "42859371",
   "metadata": {},
   "outputs": [],
   "source": [
    "df.drop(df.columns[[12]], axis = 1, inplace = True)\n"
   ]
  },
  {
   "cell_type": "code",
   "execution_count": null,
   "id": "287b9e41",
   "metadata": {},
   "outputs": [],
   "source": [
    "df.dropna()"
   ]
  },
  {
   "cell_type": "code",
   "execution_count": null,
   "id": "8959a577",
   "metadata": {},
   "outputs": [],
   "source": [
    "df.isna().sum()"
   ]
  },
  {
   "cell_type": "code",
   "execution_count": null,
   "id": "5122f47e",
   "metadata": {},
   "outputs": [],
   "source": [
    "def remove_perc(string):\n",
    "    \n",
    "    try:\n",
    "        string = float(string[:-1])\n",
    "        \n",
    "    except:\n",
    "        string = float(string)\n",
    "        \n",
    "    return string\n",
    "\n",
    "\n",
    "df['customer_lifetime_value'].apply(lambda row: remove_perc(row))"
   ]
  },
  {
   "cell_type": "code",
   "execution_count": null,
   "id": "f3366d04",
   "metadata": {},
   "outputs": [],
   "source": []
  },
  {
   "cell_type": "markdown",
   "id": "371d4783",
   "metadata": {},
   "source": [
    "### X-y split and separating numerical and categorical"
   ]
  },
  {
   "cell_type": "code",
   "execution_count": null,
   "id": "0b6031c5",
   "metadata": {},
   "outputs": [],
   "source": [
    "y = df['Total Claim Amount']\n",
    "X = df.drop(['Total Claim Amount'], axis=1)"
   ]
  },
  {
   "cell_type": "code",
   "execution_count": null,
   "id": "7f8e7de7",
   "metadata": {},
   "outputs": [],
   "source": [
    "X_train, X_test, y_train, y_test = train_test_split(X, y,test_size = 0.2, random_state = 1)"
   ]
  },
  {
   "cell_type": "code",
   "execution_count": null,
   "id": "d39c2bab",
   "metadata": {},
   "outputs": [],
   "source": [
    "X_train_num = X_train.select_dtypes(include=[np.number])\n"
   ]
  },
  {
   "cell_type": "code",
   "execution_count": null,
   "id": "d368853e",
   "metadata": {},
   "outputs": [],
   "source": [
    "X_train_cat = X_train.select_dtypes(exclude=[np.number])\n"
   ]
  },
  {
   "cell_type": "code",
   "execution_count": null,
   "id": "7aad62f9",
   "metadata": {
    "scrolled": true
   },
   "outputs": [],
   "source": [
    "X_test_num = X_test.select_dtypes(include=[np.number])\n"
   ]
  },
  {
   "cell_type": "code",
   "execution_count": null,
   "id": "25f7eb78",
   "metadata": {},
   "outputs": [],
   "source": [
    "X_test_cat = X_test.select_dtypes(exclude=[np.number])\n"
   ]
  },
  {
   "cell_type": "markdown",
   "id": "24243a65",
   "metadata": {},
   "source": [
    "### Normalizing numerical variables"
   ]
  },
  {
   "cell_type": "code",
   "execution_count": null,
   "id": "5809d59c",
   "metadata": {},
   "outputs": [],
   "source": [
    "#Do the distributions for different numerical variables look like a normal distribution\n",
    "#normalize values in every column\n",
    "#view normalized DataFrame"
   ]
  },
  {
   "cell_type": "code",
   "execution_count": null,
   "id": "0cec83e1",
   "metadata": {},
   "outputs": [],
   "source": [
    "powertransformer = PowerTransformer(method='yeo-johnson', standardize=True, copy=True)\n",
    "powertransformer.fit(X_train_num)\n",
    "X_train_PT = powertransformer.transform(X_train_num)\n",
    "X_test_PT = powertransformer.transform(X_test_num)"
   ]
  },
  {
   "cell_type": "code",
   "execution_count": null,
   "id": "999abb70",
   "metadata": {},
   "outputs": [],
   "source": [
    "X_train_df = pd.DataFrame(X_train_PT, columns=X_train_num.columns)\n",
    "X_test_df= pd.DataFrame(X_test_PT,  columns=X_train_num.columns)"
   ]
  },
  {
   "cell_type": "markdown",
   "id": "3b061121",
   "metadata": {},
   "source": [
    "##  lab | Customer analysis round 6"
   ]
  },
  {
   "cell_type": "markdown",
   "id": "e9371a57",
   "metadata": {},
   "source": [
    "### One Hot/Label Encoding (categorical).\n",
    "\n",
    "\n"
   ]
  },
  {
   "cell_type": "code",
   "execution_count": null,
   "id": "70dc28d9",
   "metadata": {},
   "outputs": [],
   "source": [
    "encoder = OneHotEncoder(handle_unknown='ignore', drop='first')\n",
    "type(encoder)"
   ]
  },
  {
   "cell_type": "code",
   "execution_count": null,
   "id": "3f866ac6",
   "metadata": {},
   "outputs": [],
   "source": [
    "encoder.fit(X_train_cat)\n",
    "enc_X_train_cat = encoder.transform(X_train_cat).toarray()\n",
    "enc_X_train_cat"
   ]
  },
  {
   "cell_type": "code",
   "execution_count": null,
   "id": "19e331f6",
   "metadata": {},
   "outputs": [],
   "source": [
    "enc_col = encoder.get_feature_names_out()"
   ]
  },
  {
   "cell_type": "code",
   "execution_count": null,
   "id": "60a53e72",
   "metadata": {},
   "outputs": [],
   "source": [
    "enc_X_train_cat = pd.DataFrame(enc_X_train_cat, index=X_train_cat.index, columns=enc_col, dtype=int)"
   ]
  },
  {
   "cell_type": "code",
   "execution_count": null,
   "id": "43ceebae",
   "metadata": {},
   "outputs": [],
   "source": [
    "enc_X_test_cat = encoder.transform(X_test_cat).toarray()\n",
    "enc_col = encoder.get_feature_names_out()\n",
    "enc_X_test_cat = pd.DataFrame(enc_X_test_cat, index=X_test_cat.index, columns=enc_col, dtype=int)"
   ]
  },
  {
   "cell_type": "markdown",
   "id": "39e3a507",
   "metadata": {},
   "source": [
    "### Concatenating and Scaling numerical and categorical train/test sets"
   ]
  },
  {
   "cell_type": "code",
   "execution_count": null,
   "id": "a8920b60",
   "metadata": {},
   "outputs": [],
   "source": [
    "X_train = pd.concat([X_train_df, enc_X_train_cat], axis = 1)"
   ]
  },
  {
   "cell_type": "code",
   "execution_count": null,
   "id": "771111e5",
   "metadata": {},
   "outputs": [],
   "source": [
    "X_test = pd.concat([X_test_df, enc_X_test_cat], axis = 1)"
   ]
  },
  {
   "cell_type": "code",
   "execution_count": null,
   "id": "1665f17c",
   "metadata": {},
   "outputs": [],
   "source": [
    "MinMaxtransformer = MinMaxScaler()\n",
    "\n",
    "MinMaxtransformer.fit(X_train)\n",
    "\n",
    "X_train_nor = MinMaxtransformer.transform(X_train)\n",
    "X_test_nor  = MinMaxtransformer.transform(X_test)\n",
    "\n"
   ]
  },
  {
   "cell_type": "code",
   "execution_count": null,
   "id": "a59c8cd6",
   "metadata": {},
   "outputs": [],
   "source": [
    "X_train_nor = pd.DataFrame(X_train_nor, columns=X_train.columns)\n",
    "X_test_nor = pd.DataFrame(X_test_nor, columns = X_test.columns)"
   ]
  },
  {
   "cell_type": "markdown",
   "id": "e05bbf2d",
   "metadata": {},
   "source": [
    " ##  lab | Customer analysis round 7"
   ]
  },
  {
   "cell_type": "code",
   "execution_count": null,
   "id": "5c550446",
   "metadata": {},
   "outputs": [],
   "source": [
    "lm = linear_model.LinearRegression()\n",
    "lm.fit(X_train_nor,y_train)"
   ]
  },
  {
   "cell_type": "code",
   "execution_count": null,
   "id": "ef633d3e",
   "metadata": {},
   "outputs": [],
   "source": []
  },
  {
   "cell_type": "code",
   "execution_count": null,
   "id": "9ded227f",
   "metadata": {},
   "outputs": [],
   "source": [
    "y_train_pred = lm.predict(X_train_nor)\n",
    "r2_score(y_train, y_train_pred)\n"
   ]
  },
  {
   "cell_type": "code",
   "execution_count": null,
   "id": "7e9a43b0",
   "metadata": {},
   "outputs": [],
   "source": [
    "y_test_pred = lm.predict(X_test_nor)\n",
    "r2_score(y_test, y_test_pred)\n"
   ]
  },
  {
   "cell_type": "code",
   "execution_count": null,
   "id": "5ed4fa6e",
   "metadata": {},
   "outputs": [],
   "source": [
    "lm.intercept_"
   ]
  },
  {
   "cell_type": "code",
   "execution_count": null,
   "id": "87f9139e",
   "metadata": {},
   "outputs": [],
   "source": [
    "lm.coef_"
   ]
  },
  {
   "cell_type": "code",
   "execution_count": null,
   "id": "cf2e7781",
   "metadata": {},
   "outputs": [],
   "source": [
    "np.sqrt(mean_squared_error(y_train,y_train_pred)) # MSE -> RMSE"
   ]
  },
  {
   "cell_type": "code",
   "execution_count": null,
   "id": "62c1a2ba",
   "metadata": {},
   "outputs": [],
   "source": [
    "np.sqrt(mean_squared_error(y_test,y_test_pred)) # MSE -> RMSE"
   ]
  },
  {
   "cell_type": "code",
   "execution_count": null,
   "id": "98f37588",
   "metadata": {},
   "outputs": [],
   "source": []
  },
  {
   "cell_type": "code",
   "execution_count": null,
   "id": "6b371ba2",
   "metadata": {},
   "outputs": [],
   "source": []
  },
  {
   "cell_type": "code",
   "execution_count": null,
   "id": "3d2d5772",
   "metadata": {},
   "outputs": [],
   "source": []
  },
  {
   "cell_type": "code",
   "execution_count": null,
   "id": "25b6c423",
   "metadata": {},
   "outputs": [],
   "source": []
  },
  {
   "cell_type": "code",
   "execution_count": null,
   "id": "8bde6d4b",
   "metadata": {},
   "outputs": [],
   "source": []
  },
  {
   "cell_type": "code",
   "execution_count": null,
   "id": "ad1719ca",
   "metadata": {},
   "outputs": [],
   "source": []
  },
  {
   "cell_type": "code",
   "execution_count": null,
   "id": "1b8d2a46",
   "metadata": {},
   "outputs": [],
   "source": []
  },
  {
   "cell_type": "code",
   "execution_count": null,
   "id": "e975752f",
   "metadata": {},
   "outputs": [],
   "source": []
  },
  {
   "cell_type": "code",
   "execution_count": null,
   "id": "03205de3",
   "metadata": {},
   "outputs": [],
   "source": []
  },
  {
   "cell_type": "code",
   "execution_count": null,
   "id": "3f1e3b49",
   "metadata": {},
   "outputs": [],
   "source": []
  },
  {
   "cell_type": "code",
   "execution_count": null,
   "id": "135004f2",
   "metadata": {},
   "outputs": [],
   "source": []
  },
  {
   "cell_type": "code",
   "execution_count": null,
   "id": "3c50044e",
   "metadata": {},
   "outputs": [],
   "source": []
  },
  {
   "cell_type": "code",
   "execution_count": null,
   "id": "b38b6d99",
   "metadata": {},
   "outputs": [],
   "source": []
  },
  {
   "cell_type": "code",
   "execution_count": null,
   "id": "e3b14c37",
   "metadata": {},
   "outputs": [],
   "source": []
  },
  {
   "cell_type": "code",
   "execution_count": null,
   "id": "eae4b5a5",
   "metadata": {},
   "outputs": [],
   "source": []
  }
 ],
 "metadata": {
  "kernelspec": {
   "display_name": "Python 3 (ipykernel)",
   "language": "python",
   "name": "python3"
  },
  "language_info": {
   "codemirror_mode": {
    "name": "ipython",
    "version": 3
   },
   "file_extension": ".py",
   "mimetype": "text/x-python",
   "name": "python",
   "nbconvert_exporter": "python",
   "pygments_lexer": "ipython3",
   "version": "3.9.12"
  },
  "toc": {
   "base_numbering": 1,
   "nav_menu": {},
   "number_sections": true,
   "sideBar": true,
   "skip_h1_title": false,
   "title_cell": "Table of Contents",
   "title_sidebar": "Contents",
   "toc_cell": false,
   "toc_position": {},
   "toc_section_display": true,
   "toc_window_display": false
  },
  "varInspector": {
   "cols": {
    "lenName": 16,
    "lenType": 16,
    "lenVar": 40
   },
   "kernels_config": {
    "python": {
     "delete_cmd_postfix": "",
     "delete_cmd_prefix": "del ",
     "library": "var_list.py",
     "varRefreshCmd": "print(var_dic_list())"
    },
    "r": {
     "delete_cmd_postfix": ") ",
     "delete_cmd_prefix": "rm(",
     "library": "var_list.r",
     "varRefreshCmd": "cat(var_dic_list()) "
    }
   },
   "position": {
    "height": "301.84px",
    "left": "1718.43px",
    "right": "20px",
    "top": "133.003px",
    "width": "375px"
   },
   "types_to_exclude": [
    "module",
    "function",
    "builtin_function_or_method",
    "instance",
    "_Feature"
   ],
   "window_display": false
  }
 },
 "nbformat": 4,
 "nbformat_minor": 5
}
